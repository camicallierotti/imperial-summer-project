{
 "cells": [
  {
   "cell_type": "markdown",
   "metadata": {},
   "source": [
    "# Censoring rate sensitivity analyis"
   ]
  },
  {
   "cell_type": "code",
   "execution_count": null,
   "metadata": {
    "id": "47008609"
   },
   "outputs": [],
   "source": [
    "#import necessary libraries\n",
    "import pandas as pd\n",
    "import numpy as np\n",
    "\n",
    "from sklearn.preprocessing import StandardScaler, LabelEncoder\n",
    "from sklearn_pandas import DataFrameMapper\n",
    "from sklearn.model_selection import train_test_split\n",
    "\n",
    "import matplotlib.pyplot as plt\n",
    "from pycox.models import CoxPH, DeepHit\n",
    "\n",
    "from pycox.evaluation import EvalSurv\n",
    "from pycox.simulations import SimStudyLinearPH\n",
    "\n",
    "import torch\n",
    "import torchtuples as tt\n",
    "\n",
    "from google.colab import drive"
   ]
  },
  {
   "cell_type": "code",
   "execution_count": 82,
   "metadata": {},
   "outputs": [],
   "source": [
    "from sklearn.preprocessing import StandardScaler\n",
    "from sklearn_pandas import DataFrameMapper\n",
    "\n",
    "import matplotlib.pyplot as plt\n",
    "\n",
    "import torchtuples as tt\n",
    "from pycox.models import CoxPH, DeepHit\n",
    "from pycox.evaluation import EvalSurv"
   ]
  },
  {
   "cell_type": "code",
   "execution_count": 83,
   "metadata": {},
   "outputs": [],
   "source": [
    "from pycox.simulations import base \n",
    "from pycox.simulations import discrete_logit_hazard , relative_risk, SimStudyLinearPH, SimStudySACCensorConst\n"
   ]
  },
  {
   "cell_type": "code",
   "execution_count": 84,
   "metadata": {},
   "outputs": [],
   "source": [
    "#Different censoring rate\n",
    "a1 = SimStudyLinearPH(c0 = 1) # 1%\n",
    "a25 = SimStudyLinearPH(c0 = 25) # 25 %\n",
    "a50= SimStudyLinearPH(c0 = 50) # 50%\n",
    "a75= SimStudyLinearPH(c0 = 75) # 75%\n",
    "a99 = SimStudyLinearPH(c0 = 99) # 99%"
   ]
  },
  {
   "cell_type": "code",
   "execution_count": 85,
   "metadata": {},
   "outputs": [],
   "source": [
    "#function to create simulated \n",
    "def data_pre(var):\n",
    "    # dataframe from the simulation\n",
    "    data = var.dict2df(var.simulate(1000))\n",
    "    train = data\n",
    "    test = data.sample(frac=0.2)\n",
    "    val= data.sample(frac=0.2)\n",
    "    return train, test, val\n",
    "\n"
   ]
  },
  {
   "cell_type": "code",
   "execution_count": 86,
   "metadata": {},
   "outputs": [],
   "source": [
    "# function to standardize X \n",
    "def stand_data(data):\n",
    "    # data is dataframe to standardize\n",
    "    Y= lambda data: (data['duration'].values, data['event'].values)\n",
    "\n",
    "    # to standardize and get dependent variables \n",
    "    X= ['x0', 'x1', 'x2', 'duration_true', 'event_true',\n",
    "       'censoring_true'] # list of variables for standardization\n",
    "\n",
    "    standardize_sim = [([sim], StandardScaler()) for sim in X] #standardize function \n",
    "    \n",
    "\n",
    "    X_map_sim = DataFrameMapper(standardize_sim)\n",
    "    x = X_map_sim.fit_transform(data).astype('float32') # x simulate data\n",
    "    \n",
    "    y = Y(data) # y variables\n",
    "    return x, y\n"
   ]
  },
  {
   "cell_type": "code",
   "execution_count": 87,
   "metadata": {},
   "outputs": [],
   "source": [
    "# function to create neural network\n",
    "def arch_net (x_data):\n",
    "    # x_data x dataframe\n",
    "    in_features = x_data.shape[1]\n",
    "    num_nodes = [32, 32]\n",
    "    out_features = 1\n",
    "    batch_norm = True\n",
    "    dropout = 0.1\n",
    "    output_bias = False\n",
    "\n",
    "    net = tt.practical.MLPVanilla(in_features, num_nodes, out_features, batch_norm,\n",
    "                                  dropout, output_bias=output_bias)\n",
    "    return net\n"
   ]
  },
  {
   "cell_type": "markdown",
   "metadata": {},
   "source": [
    "## insert %"
   ]
  },
  {
   "cell_type": "code",
   "execution_count": 202,
   "metadata": {
    "id": "62e18777"
   },
   "outputs": [],
   "source": [
    "df_train, df_test, df_val = data_pre(a25)"
   ]
  },
  {
   "cell_type": "code",
   "execution_count": 203,
   "metadata": {
    "id": "64c359c6"
   },
   "outputs": [],
   "source": [
    "x_train , y_train = stand_data(df_train)\n",
    "x_test = stand_data(df_test)[0] # x test \n",
    "duration_test, event_test = stand_data(df_test)[1] #y _test\n",
    "val = stand_data(df_val)"
   ]
  },
  {
   "cell_type": "code",
   "execution_count": 204,
   "metadata": {
    "id": "20a40e38"
   },
   "outputs": [],
   "source": [
    "net = arch_net(x_train)\n",
    "model_cox = CoxPH(net, tt.optim.Adam) #cox model on the neural network with Adam optimizer"
   ]
  },
  {
   "cell_type": "code",
   "execution_count": 205,
   "metadata": {
    "colab": {
     "base_uri": "https://localhost:8080/",
     "height": 283
    },
    "id": "c50cae1d",
    "outputId": "7bb5f2b0-75ad-4869-bc56-c4c144d304d6"
   },
   "outputs": [
    {
     "data": {
      "image/png": "[encoded data removed]",
      "text/plain": [
       "<Figure size 432x288 with 1 Axes>"
      ]
     },
     "metadata": {
      "needs_background": "light"
     },
     "output_type": "display_data"
    }
   ],
   "source": [
    "lrfinder_cox = model_cox.lr_finder(x_train, y_train, batch_size = 256, tolerance=10) \n",
    "_ = lrfinder_cox.plot()"
   ]
  },
  {
   "cell_type": "code",
   "execution_count": 206,
   "metadata": {
    "id": "a33a4f49"
   },
   "outputs": [],
   "source": [
    "# setting the learnig rate \n",
    "model_cox.optimizer.set_lr(0.01)"
   ]
  },
  {
   "cell_type": "code",
   "execution_count": 207,
   "metadata": {
    "colab": {
     "base_uri": "https://localhost:8080/"
    },
    "id": "1c4b9442",
    "outputId": "0a920ec9-5b27-4ac7-d851-85542d3f1dab"
   },
   "outputs": [],
   "source": [
    "epochs = 512\n",
    "callbacks = [tt.callbacks.EarlyStopping()]\n",
    "#callbacks = None\n",
    "verbose = False\n",
    "batch_size = 256\n",
    "\n",
    "log_cox = model_cox.fit(x_train, y_train, batch_size, epochs, callbacks, verbose,\n",
    "                val_data =val,  val_batch_size=batch_size)"
   ]
  },
  {
   "cell_type": "code",
   "execution_count": 208,
   "metadata": {
    "colab": {
     "base_uri": "https://localhost:8080/",
     "height": 320
    },
    "id": "e14f6354",
    "outputId": "cdee7c15-3478-4791-cdb6-5fc50b3b8f74"
   },
   "outputs": [
    {
     "data": {
      "text/plain": [
       "Text(0, 0.5, 'Loss')"
      ]
     },
     "execution_count": 208,
     "metadata": {},
     "output_type": "execute_result"
    },
    {
     "data": {
      "text/plain": [
       "<Figure size 864x864 with 0 Axes>"
      ]
     },
     "metadata": {},
     "output_type": "display_data"
    },
    {
     "data": {
      "image/png": "[encoded data removed]",
      "text/plain": [
       "<Figure size 432x288 with 1 Axes>"
      ]
     },
     "metadata": {
      "needs_background": "light"
     },
     "output_type": "display_data"
    }
   ],
   "source": [
    "#plotting the loss vs epoch \n",
    "plt.figure(figsize=[12,12])\n",
    "log_cox.plot()\n",
    "plt.xlabel('Epoch', fontsize = 16)\n",
    "plt.ylabel('Loss', fontsize = 16)"
   ]
  },
  {
   "cell_type": "code",
   "execution_count": 209,
   "metadata": {
    "id": "c0c3c656"
   },
   "outputs": [],
   "source": [
    "# predict for the cox model\n",
    "model_cox.compute_baseline_hazards() #baseline hazard\n",
    "surv_cox = model_cox.predict_surv_df(x_test) # survival of the test data"
   ]
  },
  {
   "cell_type": "code",
   "execution_count": 210,
   "metadata": {
    "colab": {
     "base_uri": "https://localhost:8080/",
     "height": 628
    },
    "id": "28683896",
    "outputId": "724c7e8c-c0aa-42d8-f951-2eceeac11346"
   },
   "outputs": [
    {
     "data": {
      "text/plain": [
       "<matplotlib.legend.Legend at 0x7f893daa30a0>"
      ]
     },
     "execution_count": 210,
     "metadata": {},
     "output_type": "execute_result"
    },
    {
     "data": {
      "image/png": "[encoded data removed]",
      "text/plain": [
       "<Figure size 864x720 with 1 Axes>"
      ]
     },
     "metadata": {
      "needs_background": "light"
     },
     "output_type": "display_data"
    }
   ],
   "source": [
    "# plotting for few outputs\n",
    "plt.figure(figsize=[12,10])\n",
    "plt.subplot(121)\n",
    "plt.plot(surv_cox.iloc[:, :6])\n",
    "plt.xlabel('Time', fontsize = 16)\n",
    "plt.ylabel('Status' , fontsize = 16)\n",
    "plt.legend(range(len(surv_cox.iloc[:, :20])))"
   ]
  },
  {
   "cell_type": "code",
   "execution_count": 211,
   "metadata": {
    "colab": {
     "base_uri": "https://localhost:8080/"
    },
    "id": "d2a513cf",
    "outputId": "35954283-251b-41e4-ef7a-525182552558"
   },
   "outputs": [
    {
     "data": {
      "text/plain": [
       "0.99265605875153"
      ]
     },
     "execution_count": 211,
     "metadata": {},
     "output_type": "execute_result"
    }
   ],
   "source": [
    "# evaluate the c-index of the cox model \n",
    "eval_cox = EvalSurv(surv_cox, duration_test, event_test)\n",
    "cox_index = eval_cox.concordance_td() \n",
    "cox_index"
   ]
  },
  {
   "cell_type": "code",
   "execution_count": null,
   "metadata": {},
   "outputs": [],
   "source": []
  },
  {
   "cell_type": "code",
   "execution_count": null,
   "metadata": {},
   "outputs": [],
   "source": []
  }
 ],
 "metadata": {
  "kernelspec": {
   "display_name": "Python 3",
   "language": "python",
   "name": "python3"
  },
  "language_info": {
   "codemirror_mode": {
    "name": "ipython",
    "version": 3
   },
   "file_extension": ".py",
   "mimetype": "text/x-python",
   "name": "python",
   "nbconvert_exporter": "python",
   "pygments_lexer": "ipython3",
   "version": "3.8.5"
  }
 },
 "nbformat": 4,
 "nbformat_minor": 4
}
