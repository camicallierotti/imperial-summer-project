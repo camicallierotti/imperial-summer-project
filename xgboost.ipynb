{
 "cells": [
  {
   "cell_type": "code",
   "execution_count": 17,
   "metadata": {},
   "outputs": [],
   "source": [
    "import shap\n",
    "import xgboost as xgb\n",
    "from sklearn.model_selection import train_test_split\n",
    "import matplotlib.pylab as pl"
   ]
  },
  {
   "cell_type": "code",
   "execution_count": 64,
   "metadata": {},
   "outputs": [],
   "source": [
    "#import necessary libraries\n",
    "import pandas as pd\n",
    "import numpy as np\n",
    "\n",
    "from sklearn.preprocessing import StandardScaler, LabelEncoder\n",
    "from sklearn_pandas import DataFrameMapper\n",
    "from sklearn.model_selection import train_test_split\n",
    "\n",
    "import matplotlib.pyplot as plt\n",
    "from pycox.models import CoxPH, DeepHit\n",
    "\n",
    "from pycox.evaluation import EvalSurv\n",
    "from pycox.simulations import SimStudyLinearPH\n",
    "\n",
    "import torch\n",
    "import torchtuples as tt"
   ]
  },
  {
   "cell_type": "code",
   "execution_count": 71,
   "metadata": {},
   "outputs": [],
   "source": [
    "url = 'https://raw.githubusercontent.com/camicallierotti/imperial-summer-project/main/pbc.csv'\n",
    "df = pd.read_csv(url, sep=\";\", encoding='latin1',engine='python', header=0, decimal=',')\n",
    "df = pd.DataFrame(df)"
   ]
  },
  {
   "cell_type": "code",
   "execution_count": 72,
   "metadata": {},
   "outputs": [
    {
     "data": {
      "text/html": [
       "<div>\n",
       "<style scoped>\n",
       "    .dataframe tbody tr th:only-of-type {\n",
       "        vertical-align: middle;\n",
       "    }\n",
       "\n",
       "    .dataframe tbody tr th {\n",
       "        vertical-align: top;\n",
       "    }\n",
       "\n",
       "    .dataframe thead th {\n",
       "        text-align: right;\n",
       "    }\n",
       "</style>\n",
       "<table border=\"1\" class=\"dataframe\">\n",
       "  <thead>\n",
       "    <tr style=\"text-align: right;\">\n",
       "      <th></th>\n",
       "      <th>id</th>\n",
       "      <th>time</th>\n",
       "      <th>status</th>\n",
       "      <th>trt</th>\n",
       "      <th>age</th>\n",
       "      <th>sex</th>\n",
       "      <th>ascites</th>\n",
       "      <th>hepato</th>\n",
       "      <th>spiders</th>\n",
       "      <th>edema</th>\n",
       "      <th>bili</th>\n",
       "      <th>chol</th>\n",
       "      <th>albumin</th>\n",
       "      <th>copper</th>\n",
       "      <th>alk.phos</th>\n",
       "      <th>ast</th>\n",
       "      <th>trig</th>\n",
       "      <th>platelet</th>\n",
       "      <th>protime</th>\n",
       "      <th>stage</th>\n",
       "    </tr>\n",
       "  </thead>\n",
       "  <tbody>\n",
       "    <tr>\n",
       "      <th>0</th>\n",
       "      <td>1</td>\n",
       "      <td>400</td>\n",
       "      <td>2</td>\n",
       "      <td>D-penicillmain</td>\n",
       "      <td>58.765229</td>\n",
       "      <td>female</td>\n",
       "      <td>yes</td>\n",
       "      <td>yes</td>\n",
       "      <td>yes</td>\n",
       "      <td>edema</td>\n",
       "      <td>14.5</td>\n",
       "      <td>261.0</td>\n",
       "      <td>2.60</td>\n",
       "      <td>156.0</td>\n",
       "      <td>1718.0</td>\n",
       "      <td>137.95</td>\n",
       "      <td>172.0</td>\n",
       "      <td>190.0</td>\n",
       "      <td>12.2</td>\n",
       "      <td>IV</td>\n",
       "    </tr>\n",
       "    <tr>\n",
       "      <th>1</th>\n",
       "      <td>2</td>\n",
       "      <td>4500</td>\n",
       "      <td>0</td>\n",
       "      <td>D-penicillmain</td>\n",
       "      <td>56.446270</td>\n",
       "      <td>female</td>\n",
       "      <td>no</td>\n",
       "      <td>yes</td>\n",
       "      <td>yes</td>\n",
       "      <td>no</td>\n",
       "      <td>1.1</td>\n",
       "      <td>302.0</td>\n",
       "      <td>4.14</td>\n",
       "      <td>54.0</td>\n",
       "      <td>7394.8</td>\n",
       "      <td>113.52</td>\n",
       "      <td>88.0</td>\n",
       "      <td>221.0</td>\n",
       "      <td>10.6</td>\n",
       "      <td>III</td>\n",
       "    </tr>\n",
       "    <tr>\n",
       "      <th>2</th>\n",
       "      <td>3</td>\n",
       "      <td>1012</td>\n",
       "      <td>2</td>\n",
       "      <td>D-penicillmain</td>\n",
       "      <td>70.072553</td>\n",
       "      <td>male</td>\n",
       "      <td>no</td>\n",
       "      <td>no</td>\n",
       "      <td>no</td>\n",
       "      <td>untreated</td>\n",
       "      <td>1.4</td>\n",
       "      <td>176.0</td>\n",
       "      <td>3.48</td>\n",
       "      <td>210.0</td>\n",
       "      <td>516.0</td>\n",
       "      <td>96.10</td>\n",
       "      <td>55.0</td>\n",
       "      <td>151.0</td>\n",
       "      <td>12.0</td>\n",
       "      <td>IV</td>\n",
       "    </tr>\n",
       "    <tr>\n",
       "      <th>3</th>\n",
       "      <td>4</td>\n",
       "      <td>1925</td>\n",
       "      <td>2</td>\n",
       "      <td>D-penicillmain</td>\n",
       "      <td>54.740589</td>\n",
       "      <td>female</td>\n",
       "      <td>no</td>\n",
       "      <td>yes</td>\n",
       "      <td>yes</td>\n",
       "      <td>untreated</td>\n",
       "      <td>1.8</td>\n",
       "      <td>244.0</td>\n",
       "      <td>2.54</td>\n",
       "      <td>64.0</td>\n",
       "      <td>6121.8</td>\n",
       "      <td>60.63</td>\n",
       "      <td>92.0</td>\n",
       "      <td>183.0</td>\n",
       "      <td>10.3</td>\n",
       "      <td>IV</td>\n",
       "    </tr>\n",
       "    <tr>\n",
       "      <th>4</th>\n",
       "      <td>5</td>\n",
       "      <td>1504</td>\n",
       "      <td>1</td>\n",
       "      <td>Placebo</td>\n",
       "      <td>38.105407</td>\n",
       "      <td>female</td>\n",
       "      <td>no</td>\n",
       "      <td>yes</td>\n",
       "      <td>yes</td>\n",
       "      <td>no</td>\n",
       "      <td>3.4</td>\n",
       "      <td>279.0</td>\n",
       "      <td>3.53</td>\n",
       "      <td>143.0</td>\n",
       "      <td>671.0</td>\n",
       "      <td>113.15</td>\n",
       "      <td>72.0</td>\n",
       "      <td>136.0</td>\n",
       "      <td>10.9</td>\n",
       "      <td>III</td>\n",
       "    </tr>\n",
       "  </tbody>\n",
       "</table>\n",
       "</div>"
      ],
      "text/plain": [
       "   id  time  status             trt        age     sex ascites hepato spiders  \\\n",
       "0   1   400       2  D-penicillmain  58.765229  female     yes    yes     yes   \n",
       "1   2  4500       0  D-penicillmain  56.446270  female      no    yes     yes   \n",
       "2   3  1012       2  D-penicillmain  70.072553    male      no     no      no   \n",
       "3   4  1925       2  D-penicillmain  54.740589  female      no    yes     yes   \n",
       "4   5  1504       1         Placebo  38.105407  female      no    yes     yes   \n",
       "\n",
       "       edema  bili   chol  albumin  copper  alk.phos     ast   trig  platelet  \\\n",
       "0      edema  14.5  261.0     2.60   156.0    1718.0  137.95  172.0     190.0   \n",
       "1         no   1.1  302.0     4.14    54.0    7394.8  113.52   88.0     221.0   \n",
       "2  untreated   1.4  176.0     3.48   210.0     516.0   96.10   55.0     151.0   \n",
       "3  untreated   1.8  244.0     2.54    64.0    6121.8   60.63   92.0     183.0   \n",
       "4         no   3.4  279.0     3.53   143.0     671.0  113.15   72.0     136.0   \n",
       "\n",
       "   protime stage  \n",
       "0     12.2    IV  \n",
       "1     10.6   III  \n",
       "2     12.0    IV  \n",
       "3     10.3    IV  \n",
       "4     10.9   III  "
      ]
     },
     "execution_count": 72,
     "metadata": {},
     "output_type": "execute_result"
    }
   ],
   "source": [
    "df.head()"
   ]
  },
  {
   "cell_type": "code",
   "execution_count": 75,
   "metadata": {},
   "outputs": [],
   "source": [
    "# convert to single outcome\n",
    "\n",
    "df = df.applymap(str) \n",
    "df[\"status\"].replace({\"1\": \"0\", \"2\": \"1\"}, inplace=True)"
   ]
  },
  {
   "cell_type": "code",
   "execution_count": 76,
   "metadata": {},
   "outputs": [],
   "source": [
    "# drop missing values from the dataframe\n",
    "df_new = df\n",
    "df_new.dropna(how='any', inplace= True)"
   ]
  },
  {
   "cell_type": "markdown",
   "metadata": {},
   "source": [
    "## create X"
   ]
  },
  {
   "cell_type": "code",
   "execution_count": 81,
   "metadata": {},
   "outputs": [],
   "source": [
    "X = df_new.drop(['id', 'time', 'status'], axis=1)"
   ]
  },
  {
   "cell_type": "code",
   "execution_count": 82,
   "metadata": {},
   "outputs": [
    {
     "data": {
      "text/plain": [
       "trt         object\n",
       "age         object\n",
       "sex         object\n",
       "ascites     object\n",
       "hepato      object\n",
       "spiders     object\n",
       "edema       object\n",
       "bili        object\n",
       "chol        object\n",
       "albumin     object\n",
       "copper      object\n",
       "alk.phos    object\n",
       "ast         object\n",
       "trig        object\n",
       "platelet    object\n",
       "protime     object\n",
       "stage       object\n",
       "dtype: object"
      ]
     },
     "execution_count": 82,
     "metadata": {},
     "output_type": "execute_result"
    }
   ],
   "source": [
    "X.dtypes"
   ]
  },
  {
   "cell_type": "code",
   "execution_count": 83,
   "metadata": {},
   "outputs": [
    {
     "data": {
      "text/plain": [
       "['trt',\n",
       " 'age',\n",
       " 'sex',\n",
       " 'ascites',\n",
       " 'hepato',\n",
       " 'spiders',\n",
       " 'edema',\n",
       " 'bili',\n",
       " 'chol',\n",
       " 'albumin',\n",
       " 'copper',\n",
       " 'alk.phos',\n",
       " 'ast',\n",
       " 'trig',\n",
       " 'platelet',\n",
       " 'protime',\n",
       " 'stage']"
      ]
     },
     "execution_count": 83,
     "metadata": {},
     "output_type": "execute_result"
    }
   ],
   "source": [
    "list(X)"
   ]
  },
  {
   "cell_type": "code",
   "execution_count": 84,
   "metadata": {},
   "outputs": [],
   "source": [
    "# fix object data types\n",
    "obj_cols = ['trt',\n",
    " 'age',\n",
    " 'sex',\n",
    " 'ascites',\n",
    " 'hepato',\n",
    " 'spiders',\n",
    " 'edema',\n",
    " 'bili',\n",
    " 'chol',\n",
    " 'albumin',\n",
    " 'copper',\n",
    " 'alk.phos',\n",
    " 'ast',\n",
    " 'trig',\n",
    " 'platelet',\n",
    " 'protime',\n",
    " 'stage']\n",
    "LE = LabelEncoder()\n",
    "for col in obj_cols:\n",
    "    X[col] = lbl.fit_transform(X[col].astype(str))\n"
   ]
  },
  {
   "cell_type": "markdown",
   "metadata": {},
   "source": [
    "## create y (structured array)"
   ]
  },
  {
   "cell_type": "code",
   "execution_count": 85,
   "metadata": {},
   "outputs": [],
   "source": [
    "y = df_new[['status', 'time']]"
   ]
  },
  {
   "cell_type": "code",
   "execution_count": 86,
   "metadata": {},
   "outputs": [
    {
     "name": "stdout",
     "output_type": "stream",
     "text": [
      "[('1', '400') ('0', '4500') ('1', '1012') ('1', '1925') ('0', '1504')\n",
      " ('1', '2503') ('0', '1832') ('1', '2466') ('1', '2400') ('1', '51')\n",
      " ('1', '3762') ('1', '304') ('0', '3577') ('1', '1217') ('1', '3584')\n",
      " ('0', '3672') ('1', '769') ('1', '131') ('0', '4232') ('1', '1356')\n",
      " ('0', '3445') ('1', '673') ('1', '264') ('1', '4079') ('0', '4127')\n",
      " ('1', '1444') ('1', '77') ('1', '549') ('0', '4509') ('1', '321')\n",
      " ('1', '3839') ('0', '4523') ('1', '3170') ('0', '3933') ('1', '2847')\n",
      " ('0', '3611') ('1', '223') ('1', '3244') ('1', '2297') ('0', '4467')\n",
      " ('1', '1350') ('0', '4453') ('0', '4556') ('1', '3428') ('0', '4025')\n",
      " ('1', '2256') ('0', '2576') ('0', '4427') ('1', '708') ('1', '2598')\n",
      " ('1', '3853') ('1', '2386') ('1', '1000') ('1', '1434') ('1', '1360')\n",
      " ('1', '1847') ('1', '3282') ('0', '4459') ('1', '2224') ('0', '4365')\n",
      " ('0', '4256') ('1', '3090') ('1', '859') ('1', '1487') ('0', '3992')\n",
      " ('1', '4191') ('1', '2769') ('0', '4039') ('1', '1170') ('0', '3458')\n",
      " ('0', '4196') ('0', '4184') ('0', '4190') ('1', '1827') ('1', '1191')\n",
      " ('1', '71') ('1', '326') ('1', '1690') ('0', '3707') ('1', '890')\n",
      " ('1', '2540') ('1', '3574') ('0', '4050') ('0', '4032') ('1', '3358')\n",
      " ('1', '1657') ('1', '198') ('0', '2452') ('1', '1741') ('1', '2689')\n",
      " ('1', '460') ('1', '388') ('0', '3913') ('1', '750') ('1', '130')\n",
      " ('0', '3850') ('1', '611') ('0', '3823') ('0', '3820') ('1', '552')\n",
      " ('0', '3581') ('0', '3099') ('1', '110') ('1', '3086') ('0', '3092')\n",
      " ('1', '3222') ('0', '3388') ('1', '2583') ('0', '2504') ('1', '2105')\n",
      " ('0', '2350') ('1', '3445') ('1', '980') ('1', '3395') ('0', '3422')\n",
      " ('0', '3336') ('1', '1083') ('1', '2288') ('1', '515') ('0', '2033')\n",
      " ('1', '191') ('0', '3297') ('1', '971') ('0', '3069') ('0', '2468')\n",
      " ('1', '824') ('0', '3255') ('1', '1037') ('0', '3239') ('1', '1413')\n",
      " ('1', '850') ('0', '2944') ('1', '2796') ('0', '3149') ('0', '3150')\n",
      " ('0', '3098') ('0', '2990') ('1', '1297') ('0', '2106') ('0', '3059')\n",
      " ('0', '3050') ('1', '2419') ('1', '786') ('1', '943') ('0', '2976')\n",
      " ('0', '2615') ('0', '2995') ('1', '1427') ('1', '762') ('0', '2891')\n",
      " ('0', '2870') ('1', '1152') ('0', '2863') ('1', '140') ('0', '2666')\n",
      " ('1', '853') ('0', '2835') ('0', '2475') ('1', '1536') ('0', '2772')\n",
      " ('0', '2797') ('1', '186') ('1', '2055') ('1', '264') ('1', '1077')\n",
      " ('0', '2721') ('1', '1682') ('0', '2713') ('1', '1212') ('0', '2692')\n",
      " ('0', '2574') ('0', '2301') ('0', '2657') ('0', '2644') ('0', '2624')\n",
      " ('1', '1492') ('0', '2609') ('0', '2580') ('0', '2573') ('0', '2563')\n",
      " ('0', '2556') ('0', '2555') ('0', '2241') ('1', '974') ('0', '2527')\n",
      " ('1', '1576') ('1', '733') ('0', '2332') ('0', '2456') ('0', '2504')\n",
      " ('1', '216') ('0', '2443') ('1', '797') ('0', '2449') ('0', '2330')\n",
      " ('0', '2363') ('0', '2365') ('0', '2357') ('0', '1592') ('0', '2318')\n",
      " ('0', '2294') ('0', '2272') ('0', '2221') ('1', '2090') ('1', '2081')\n",
      " ('0', '2255') ('0', '2171') ('1', '904') ('0', '2216') ('0', '2224')\n",
      " ('0', '2195') ('0', '2176') ('0', '2178') ('1', '1786') ('1', '1080')\n",
      " ('0', '2168') ('1', '790') ('0', '2170') ('0', '2157') ('1', '1235')\n",
      " ('0', '2050') ('1', '597') ('1', '334') ('0', '1945') ('0', '2022')\n",
      " ('0', '1978') ('1', '999') ('0', '1967') ('1', '348') ('0', '1979')\n",
      " ('1', '1165') ('0', '1951') ('0', '1932') ('0', '1776') ('0', '1882')\n",
      " ('0', '1908') ('0', '1882') ('0', '1874') ('1', '694') ('0', '1831')\n",
      " ('0', '837') ('0', '1810') ('1', '930') ('1', '1690') ('0', '1790')\n",
      " ('0', '1435') ('0', '732') ('0', '1785') ('0', '1783') ('0', '1769')\n",
      " ('0', '1457') ('0', '1770') ('0', '1765') ('0', '737') ('0', '1735')\n",
      " ('0', '1701') ('0', '1614') ('0', '1702') ('0', '1615') ('0', '1656')\n",
      " ('0', '1677') ('0', '1666') ('0', '1301') ('0', '1542') ('0', '1084')\n",
      " ('0', '1614') ('1', '179') ('1', '1191') ('0', '1363') ('0', '1568')\n",
      " ('0', '1569') ('0', '1525') ('0', '1558') ('0', '1447') ('0', '1349')\n",
      " ('0', '1481') ('0', '1434') ('0', '1420') ('0', '1433') ('0', '1412')\n",
      " ('1', '41') ('0', '1455') ('0', '1030') ('0', '1418') ('0', '1401')\n",
      " ('0', '1408') ('0', '1234') ('0', '1067') ('1', '799') ('0', '1363')\n",
      " ('0', '901') ('0', '1329') ('0', '1320') ('0', '1302') ('0', '877')\n",
      " ('0', '1321') ('0', '533') ('0', '1300') ('0', '1293') ('1', '207')\n",
      " ('0', '1295') ('0', '1271') ('0', '1250') ('0', '1230') ('0', '1216')\n",
      " ('0', '1216') ('0', '1149') ('0', '1153') ('0', '994') ('0', '939')\n",
      " ('0', '839') ('0', '788') ('0', '4062') ('1', '3561') ('0', '2844')\n",
      " ('1', '2071') ('0', '3030') ('0', '1680') ('1', '41') ('0', '2403')\n",
      " ('0', '1170') ('1', '2011') ('0', '3523') ('0', '3468') ('0', '4795')\n",
      " ('0', '1236') ('0', '4214') ('1', '2111') ('1', '1462') ('1', '1746')\n",
      " ('1', '94') ('1', '785') ('1', '1518') ('1', '466') ('0', '3527')\n",
      " ('0', '2635') ('1', '2286') ('1', '791') ('0', '3492') ('0', '3495')\n",
      " ('1', '111') ('0', '3231') ('1', '625') ('0', '3157') ('0', '3021')\n",
      " ('1', '559') ('1', '2812') ('0', '2834') ('0', '2855') ('1', '662')\n",
      " ('1', '727') ('0', '2716') ('0', '2698') ('1', '990') ('0', '2338')\n",
      " ('1', '1616') ('0', '2563') ('0', '2537') ('0', '2534') ('1', '778')\n",
      " ('0', '617') ('0', '2267') ('0', '2249') ('1', '359') ('0', '1925')\n",
      " ('1', '249') ('0', '2202') ('1', '43') ('1', '1197') ('1', '1095')\n",
      " ('1', '489') ('0', '2149') ('0', '2103') ('0', '1980') ('0', '1347')\n",
      " ('1', '1478') ('0', '1987') ('1', '1168') ('0', '1725') ('0', '1899')\n",
      " ('1', '221') ('0', '1022') ('0', '1639') ('0', '1635') ('0', '1654')\n",
      " ('0', '1653') ('0', '1560') ('0', '1581') ('0', '1419') ('0', '1443')\n",
      " ('0', '1368') ('1', '193') ('0', '1367') ('0', '1329') ('0', '1343')\n",
      " ('0', '1328') ('0', '1375') ('0', '1260') ('0', '1223') ('1', '935')\n",
      " ('0', '943') ('0', '1141') ('0', '1092') ('0', '1150') ('1', '703')\n",
      " ('0', '1129') ('0', '1086') ('0', '1067') ('0', '1072') ('0', '1119')\n",
      " ('0', '1097') ('0', '989') ('1', '681') ('0', '1103') ('0', '1055')\n",
      " ('0', '691') ('0', '976')]\n"
     ]
    }
   ],
   "source": [
    "y_str = y.to_records(index=False)\n",
    "print(y_str)"
   ]
  },
  {
   "cell_type": "code",
   "execution_count": 87,
   "metadata": {},
   "outputs": [
    {
     "ename": "AssertionError",
     "evalue": "",
     "output_type": "error",
     "traceback": [
      "\u001b[0;31m---------------------------------------------------------------------------\u001b[0m",
      "\u001b[0;31mAssertionError\u001b[0m                            Traceback (most recent call last)",
      "\u001b[0;32m<ipython-input-87-1c25310e0867>\u001b[0m in \u001b[0;36m<module>\u001b[0;34m\u001b[0m\n\u001b[0;32m----> 1\u001b[0;31m \u001b[0mxgb_full\u001b[0m \u001b[0;34m=\u001b[0m \u001b[0mxgboost\u001b[0m\u001b[0;34m.\u001b[0m\u001b[0mDMatrix\u001b[0m\u001b[0;34m(\u001b[0m\u001b[0mX\u001b[0m\u001b[0;34m,\u001b[0m \u001b[0mlabel\u001b[0m\u001b[0;34m=\u001b[0m\u001b[0my\u001b[0m\u001b[0;34m)\u001b[0m\u001b[0;34m\u001b[0m\u001b[0;34m\u001b[0m\u001b[0m\n\u001b[0m",
      "\u001b[0;32m/opt/anaconda3/lib/python3.8/site-packages/xgboost/core.py\u001b[0m in \u001b[0;36m__init__\u001b[0;34m(self, data, label, weight, base_margin, missing, silent, feature_names, feature_types, nthread, enable_categorical)\u001b[0m\n\u001b[1;32m    507\u001b[0m         \u001b[0mself\u001b[0m\u001b[0;34m.\u001b[0m\u001b[0mhandle\u001b[0m \u001b[0;34m=\u001b[0m \u001b[0mhandle\u001b[0m\u001b[0;34m\u001b[0m\u001b[0;34m\u001b[0m\u001b[0m\n\u001b[1;32m    508\u001b[0m \u001b[0;34m\u001b[0m\u001b[0m\n\u001b[0;32m--> 509\u001b[0;31m         \u001b[0mself\u001b[0m\u001b[0;34m.\u001b[0m\u001b[0mset_info\u001b[0m\u001b[0;34m(\u001b[0m\u001b[0mlabel\u001b[0m\u001b[0;34m=\u001b[0m\u001b[0mlabel\u001b[0m\u001b[0;34m,\u001b[0m \u001b[0mweight\u001b[0m\u001b[0;34m=\u001b[0m\u001b[0mweight\u001b[0m\u001b[0;34m,\u001b[0m \u001b[0mbase_margin\u001b[0m\u001b[0;34m=\u001b[0m\u001b[0mbase_margin\u001b[0m\u001b[0;34m)\u001b[0m\u001b[0;34m\u001b[0m\u001b[0;34m\u001b[0m\u001b[0m\n\u001b[0m\u001b[1;32m    510\u001b[0m \u001b[0;34m\u001b[0m\u001b[0m\n\u001b[1;32m    511\u001b[0m         \u001b[0mself\u001b[0m\u001b[0;34m.\u001b[0m\u001b[0mfeature_names\u001b[0m \u001b[0;34m=\u001b[0m \u001b[0mfeature_names\u001b[0m\u001b[0;34m\u001b[0m\u001b[0;34m\u001b[0m\u001b[0m\n",
      "\u001b[0;32m/opt/anaconda3/lib/python3.8/site-packages/xgboost/core.py\u001b[0m in \u001b[0;36minner_f\u001b[0;34m(*args, **kwargs)\u001b[0m\n\u001b[1;32m    420\u001b[0m         \u001b[0;32mfor\u001b[0m \u001b[0mk\u001b[0m\u001b[0;34m,\u001b[0m \u001b[0marg\u001b[0m \u001b[0;32min\u001b[0m \u001b[0mzip\u001b[0m\u001b[0;34m(\u001b[0m\u001b[0msig\u001b[0m\u001b[0;34m.\u001b[0m\u001b[0mparameters\u001b[0m\u001b[0;34m,\u001b[0m \u001b[0margs\u001b[0m\u001b[0;34m)\u001b[0m\u001b[0;34m:\u001b[0m\u001b[0;34m\u001b[0m\u001b[0;34m\u001b[0m\u001b[0m\n\u001b[1;32m    421\u001b[0m             \u001b[0mkwargs\u001b[0m\u001b[0;34m[\u001b[0m\u001b[0mk\u001b[0m\u001b[0;34m]\u001b[0m \u001b[0;34m=\u001b[0m \u001b[0marg\u001b[0m\u001b[0;34m\u001b[0m\u001b[0;34m\u001b[0m\u001b[0m\n\u001b[0;32m--> 422\u001b[0;31m         \u001b[0;32mreturn\u001b[0m \u001b[0mf\u001b[0m\u001b[0;34m(\u001b[0m\u001b[0;34m**\u001b[0m\u001b[0mkwargs\u001b[0m\u001b[0;34m)\u001b[0m\u001b[0;34m\u001b[0m\u001b[0;34m\u001b[0m\u001b[0m\n\u001b[0m\u001b[1;32m    423\u001b[0m \u001b[0;34m\u001b[0m\u001b[0m\n\u001b[1;32m    424\u001b[0m     \u001b[0;32mreturn\u001b[0m \u001b[0minner_f\u001b[0m\u001b[0;34m\u001b[0m\u001b[0;34m\u001b[0m\u001b[0m\n",
      "\u001b[0;32m/opt/anaconda3/lib/python3.8/site-packages/xgboost/core.py\u001b[0m in \u001b[0;36mset_info\u001b[0;34m(self, label, weight, base_margin, group, label_lower_bound, label_upper_bound, feature_names, feature_types, feature_weights)\u001b[0m\n\u001b[1;32m    528\u001b[0m         \u001b[0;34m'''Set meta info for DMatrix.'''\u001b[0m\u001b[0;34m\u001b[0m\u001b[0;34m\u001b[0m\u001b[0m\n\u001b[1;32m    529\u001b[0m         \u001b[0;32mif\u001b[0m \u001b[0mlabel\u001b[0m \u001b[0;32mis\u001b[0m \u001b[0;32mnot\u001b[0m \u001b[0;32mNone\u001b[0m\u001b[0;34m:\u001b[0m\u001b[0;34m\u001b[0m\u001b[0;34m\u001b[0m\u001b[0m\n\u001b[0;32m--> 530\u001b[0;31m             \u001b[0mself\u001b[0m\u001b[0;34m.\u001b[0m\u001b[0mset_label\u001b[0m\u001b[0;34m(\u001b[0m\u001b[0mlabel\u001b[0m\u001b[0;34m)\u001b[0m\u001b[0;34m\u001b[0m\u001b[0;34m\u001b[0m\u001b[0m\n\u001b[0m\u001b[1;32m    531\u001b[0m         \u001b[0;32mif\u001b[0m \u001b[0mweight\u001b[0m \u001b[0;32mis\u001b[0m \u001b[0;32mnot\u001b[0m \u001b[0;32mNone\u001b[0m\u001b[0;34m:\u001b[0m\u001b[0;34m\u001b[0m\u001b[0;34m\u001b[0m\u001b[0m\n\u001b[1;32m    532\u001b[0m             \u001b[0mself\u001b[0m\u001b[0;34m.\u001b[0m\u001b[0mset_weight\u001b[0m\u001b[0;34m(\u001b[0m\u001b[0mweight\u001b[0m\u001b[0;34m)\u001b[0m\u001b[0;34m\u001b[0m\u001b[0;34m\u001b[0m\u001b[0m\n",
      "\u001b[0;32m/opt/anaconda3/lib/python3.8/site-packages/xgboost/core.py\u001b[0m in \u001b[0;36mset_label\u001b[0;34m(self, label)\u001b[0m\n\u001b[1;32m    657\u001b[0m         \"\"\"\n\u001b[1;32m    658\u001b[0m         \u001b[0;32mfrom\u001b[0m \u001b[0;34m.\u001b[0m\u001b[0mdata\u001b[0m \u001b[0;32mimport\u001b[0m \u001b[0mdispatch_meta_backend\u001b[0m\u001b[0;34m\u001b[0m\u001b[0;34m\u001b[0m\u001b[0m\n\u001b[0;32m--> 659\u001b[0;31m         \u001b[0mdispatch_meta_backend\u001b[0m\u001b[0;34m(\u001b[0m\u001b[0mself\u001b[0m\u001b[0;34m,\u001b[0m \u001b[0mlabel\u001b[0m\u001b[0;34m,\u001b[0m \u001b[0;34m'label'\u001b[0m\u001b[0;34m,\u001b[0m \u001b[0;34m'float'\u001b[0m\u001b[0;34m)\u001b[0m\u001b[0;34m\u001b[0m\u001b[0;34m\u001b[0m\u001b[0m\n\u001b[0m\u001b[1;32m    660\u001b[0m \u001b[0;34m\u001b[0m\u001b[0m\n\u001b[1;32m    661\u001b[0m     \u001b[0;32mdef\u001b[0m \u001b[0mset_weight\u001b[0m\u001b[0;34m(\u001b[0m\u001b[0mself\u001b[0m\u001b[0;34m,\u001b[0m \u001b[0mweight\u001b[0m\u001b[0;34m)\u001b[0m\u001b[0;34m:\u001b[0m\u001b[0;34m\u001b[0m\u001b[0;34m\u001b[0m\u001b[0m\n",
      "\u001b[0;32m/opt/anaconda3/lib/python3.8/site-packages/xgboost/data.py\u001b[0m in \u001b[0;36mdispatch_meta_backend\u001b[0;34m(matrix, data, name, dtype)\u001b[0m\n\u001b[1;32m    654\u001b[0m     \u001b[0;34m'''Dispatch for meta info.'''\u001b[0m\u001b[0;34m\u001b[0m\u001b[0;34m\u001b[0m\u001b[0m\n\u001b[1;32m    655\u001b[0m     \u001b[0mhandle\u001b[0m \u001b[0;34m=\u001b[0m \u001b[0mmatrix\u001b[0m\u001b[0;34m.\u001b[0m\u001b[0mhandle\u001b[0m\u001b[0;34m\u001b[0m\u001b[0;34m\u001b[0m\u001b[0m\n\u001b[0;32m--> 656\u001b[0;31m     \u001b[0m_validate_meta_shape\u001b[0m\u001b[0;34m(\u001b[0m\u001b[0mdata\u001b[0m\u001b[0;34m)\u001b[0m\u001b[0;34m\u001b[0m\u001b[0;34m\u001b[0m\u001b[0m\n\u001b[0m\u001b[1;32m    657\u001b[0m     \u001b[0;32mif\u001b[0m \u001b[0mdata\u001b[0m \u001b[0;32mis\u001b[0m \u001b[0;32mNone\u001b[0m\u001b[0;34m:\u001b[0m\u001b[0;34m\u001b[0m\u001b[0;34m\u001b[0m\u001b[0m\n\u001b[1;32m    658\u001b[0m         \u001b[0;32mreturn\u001b[0m\u001b[0;34m\u001b[0m\u001b[0;34m\u001b[0m\u001b[0m\n",
      "\u001b[0;32m/opt/anaconda3/lib/python3.8/site-packages/xgboost/data.py\u001b[0m in \u001b[0;36m_validate_meta_shape\u001b[0;34m(data)\u001b[0m\n\u001b[1;32m    584\u001b[0m \u001b[0;32mdef\u001b[0m \u001b[0m_validate_meta_shape\u001b[0m\u001b[0;34m(\u001b[0m\u001b[0mdata\u001b[0m\u001b[0;34m)\u001b[0m\u001b[0;34m:\u001b[0m\u001b[0;34m\u001b[0m\u001b[0;34m\u001b[0m\u001b[0m\n\u001b[1;32m    585\u001b[0m     \u001b[0;32mif\u001b[0m \u001b[0mhasattr\u001b[0m\u001b[0;34m(\u001b[0m\u001b[0mdata\u001b[0m\u001b[0;34m,\u001b[0m \u001b[0;34m'shape'\u001b[0m\u001b[0;34m)\u001b[0m\u001b[0;34m:\u001b[0m\u001b[0;34m\u001b[0m\u001b[0;34m\u001b[0m\u001b[0m\n\u001b[0;32m--> 586\u001b[0;31m         assert len(data.shape) == 1 or (\n\u001b[0m\u001b[1;32m    587\u001b[0m             \u001b[0mlen\u001b[0m\u001b[0;34m(\u001b[0m\u001b[0mdata\u001b[0m\u001b[0;34m.\u001b[0m\u001b[0mshape\u001b[0m\u001b[0;34m)\u001b[0m \u001b[0;34m==\u001b[0m \u001b[0;36m2\u001b[0m \u001b[0;32mand\u001b[0m\u001b[0;34m\u001b[0m\u001b[0;34m\u001b[0m\u001b[0m\n\u001b[1;32m    588\u001b[0m             (data.shape[1] == 0 or data.shape[1] == 1))\n",
      "\u001b[0;31mAssertionError\u001b[0m: "
     ]
    }
   ],
   "source": [
    "xgb_full = xgboost.DMatrix(X, label=y)"
   ]
  },
  {
   "cell_type": "code",
   "execution_count": null,
   "metadata": {},
   "outputs": [],
   "source": []
  }
 ],
 "metadata": {
  "kernelspec": {
   "display_name": "Python 3",
   "language": "python",
   "name": "python3"
  },
  "language_info": {
   "codemirror_mode": {
    "name": "ipython",
    "version": 3
   },
   "file_extension": ".py",
   "mimetype": "text/x-python",
   "name": "python",
   "nbconvert_exporter": "python",
   "pygments_lexer": "ipython3",
   "version": "3.8.5"
  }
 },
 "nbformat": 4,
 "nbformat_minor": 4
}
