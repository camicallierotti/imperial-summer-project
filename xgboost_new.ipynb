{
 "cells": [
  {
   "cell_type": "code",
   "execution_count": 16,
   "metadata": {},
   "outputs": [],
   "source": [
    "#import necessary libraries\n",
    "import pandas as pd\n",
    "import numpy as np\n",
    "\n",
    "from sklearn.preprocessing import StandardScaler, LabelEncoder\n",
    "from sklearn_pandas import DataFrameMapper\n",
    "from sklearn.model_selection import train_test_split\n",
    "\n",
    "import matplotlib.pyplot as plt\n",
    "from pycox.models import CoxPH, DeepHit\n",
    "\n",
    "from pycox.evaluation import EvalSurv\n",
    "from pycox.simulations import SimStudyLinearPH\n",
    "\n",
    "import torch\n",
    "import torchtuples as tt"
   ]
  },
  {
   "cell_type": "code",
   "execution_count": 17,
   "metadata": {},
   "outputs": [],
   "source": [
    "import shap\n",
    "import xgboost as xgb\n",
    "from sklearn.model_selection import train_test_split\n",
    "import matplotlib.pylab as pl"
   ]
  },
  {
   "cell_type": "markdown",
   "metadata": {},
   "source": [
    "## data"
   ]
  },
  {
   "cell_type": "code",
   "execution_count": 18,
   "metadata": {},
   "outputs": [],
   "source": [
    "url = 'https://raw.githubusercontent.com/camicallierotti/imperial-summer-project/main/pbc.csv'\n",
    "df = pd.read_csv(url, sep=\";\", encoding='latin1',engine='python', header=0, decimal=',')\n",
    "df = pd.DataFrame(df)"
   ]
  },
  {
   "cell_type": "code",
   "execution_count": 19,
   "metadata": {},
   "outputs": [
    {
     "data": {
      "text/html": [
       "<div>\n",
       "<style scoped>\n",
       "    .dataframe tbody tr th:only-of-type {\n",
       "        vertical-align: middle;\n",
       "    }\n",
       "\n",
       "    .dataframe tbody tr th {\n",
       "        vertical-align: top;\n",
       "    }\n",
       "\n",
       "    .dataframe thead th {\n",
       "        text-align: right;\n",
       "    }\n",
       "</style>\n",
       "<table border=\"1\" class=\"dataframe\">\n",
       "  <thead>\n",
       "    <tr style=\"text-align: right;\">\n",
       "      <th></th>\n",
       "      <th>id</th>\n",
       "      <th>time</th>\n",
       "      <th>status</th>\n",
       "      <th>trt</th>\n",
       "      <th>age</th>\n",
       "      <th>sex</th>\n",
       "      <th>ascites</th>\n",
       "      <th>hepato</th>\n",
       "      <th>spiders</th>\n",
       "      <th>edema</th>\n",
       "      <th>bili</th>\n",
       "      <th>chol</th>\n",
       "      <th>albumin</th>\n",
       "      <th>copper</th>\n",
       "      <th>alk.phos</th>\n",
       "      <th>ast</th>\n",
       "      <th>trig</th>\n",
       "      <th>platelet</th>\n",
       "      <th>protime</th>\n",
       "      <th>stage</th>\n",
       "    </tr>\n",
       "  </thead>\n",
       "  <tbody>\n",
       "    <tr>\n",
       "      <th>0</th>\n",
       "      <td>1</td>\n",
       "      <td>400</td>\n",
       "      <td>2</td>\n",
       "      <td>D-penicillmain</td>\n",
       "      <td>58.765229</td>\n",
       "      <td>female</td>\n",
       "      <td>yes</td>\n",
       "      <td>yes</td>\n",
       "      <td>yes</td>\n",
       "      <td>edema</td>\n",
       "      <td>14.5</td>\n",
       "      <td>261.0</td>\n",
       "      <td>2.60</td>\n",
       "      <td>156.0</td>\n",
       "      <td>1718.0</td>\n",
       "      <td>137.95</td>\n",
       "      <td>172.0</td>\n",
       "      <td>190.0</td>\n",
       "      <td>12.2</td>\n",
       "      <td>IV</td>\n",
       "    </tr>\n",
       "    <tr>\n",
       "      <th>1</th>\n",
       "      <td>2</td>\n",
       "      <td>4500</td>\n",
       "      <td>0</td>\n",
       "      <td>D-penicillmain</td>\n",
       "      <td>56.446270</td>\n",
       "      <td>female</td>\n",
       "      <td>no</td>\n",
       "      <td>yes</td>\n",
       "      <td>yes</td>\n",
       "      <td>no</td>\n",
       "      <td>1.1</td>\n",
       "      <td>302.0</td>\n",
       "      <td>4.14</td>\n",
       "      <td>54.0</td>\n",
       "      <td>7394.8</td>\n",
       "      <td>113.52</td>\n",
       "      <td>88.0</td>\n",
       "      <td>221.0</td>\n",
       "      <td>10.6</td>\n",
       "      <td>III</td>\n",
       "    </tr>\n",
       "    <tr>\n",
       "      <th>2</th>\n",
       "      <td>3</td>\n",
       "      <td>1012</td>\n",
       "      <td>2</td>\n",
       "      <td>D-penicillmain</td>\n",
       "      <td>70.072553</td>\n",
       "      <td>male</td>\n",
       "      <td>no</td>\n",
       "      <td>no</td>\n",
       "      <td>no</td>\n",
       "      <td>untreated</td>\n",
       "      <td>1.4</td>\n",
       "      <td>176.0</td>\n",
       "      <td>3.48</td>\n",
       "      <td>210.0</td>\n",
       "      <td>516.0</td>\n",
       "      <td>96.10</td>\n",
       "      <td>55.0</td>\n",
       "      <td>151.0</td>\n",
       "      <td>12.0</td>\n",
       "      <td>IV</td>\n",
       "    </tr>\n",
       "    <tr>\n",
       "      <th>3</th>\n",
       "      <td>4</td>\n",
       "      <td>1925</td>\n",
       "      <td>2</td>\n",
       "      <td>D-penicillmain</td>\n",
       "      <td>54.740589</td>\n",
       "      <td>female</td>\n",
       "      <td>no</td>\n",
       "      <td>yes</td>\n",
       "      <td>yes</td>\n",
       "      <td>untreated</td>\n",
       "      <td>1.8</td>\n",
       "      <td>244.0</td>\n",
       "      <td>2.54</td>\n",
       "      <td>64.0</td>\n",
       "      <td>6121.8</td>\n",
       "      <td>60.63</td>\n",
       "      <td>92.0</td>\n",
       "      <td>183.0</td>\n",
       "      <td>10.3</td>\n",
       "      <td>IV</td>\n",
       "    </tr>\n",
       "    <tr>\n",
       "      <th>4</th>\n",
       "      <td>5</td>\n",
       "      <td>1504</td>\n",
       "      <td>1</td>\n",
       "      <td>Placebo</td>\n",
       "      <td>38.105407</td>\n",
       "      <td>female</td>\n",
       "      <td>no</td>\n",
       "      <td>yes</td>\n",
       "      <td>yes</td>\n",
       "      <td>no</td>\n",
       "      <td>3.4</td>\n",
       "      <td>279.0</td>\n",
       "      <td>3.53</td>\n",
       "      <td>143.0</td>\n",
       "      <td>671.0</td>\n",
       "      <td>113.15</td>\n",
       "      <td>72.0</td>\n",
       "      <td>136.0</td>\n",
       "      <td>10.9</td>\n",
       "      <td>III</td>\n",
       "    </tr>\n",
       "  </tbody>\n",
       "</table>\n",
       "</div>"
      ],
      "text/plain": [
       "   id  time  status             trt        age     sex ascites hepato spiders  \\\n",
       "0   1   400       2  D-penicillmain  58.765229  female     yes    yes     yes   \n",
       "1   2  4500       0  D-penicillmain  56.446270  female      no    yes     yes   \n",
       "2   3  1012       2  D-penicillmain  70.072553    male      no     no      no   \n",
       "3   4  1925       2  D-penicillmain  54.740589  female      no    yes     yes   \n",
       "4   5  1504       1         Placebo  38.105407  female      no    yes     yes   \n",
       "\n",
       "       edema  bili   chol  albumin  copper  alk.phos     ast   trig  platelet  \\\n",
       "0      edema  14.5  261.0     2.60   156.0    1718.0  137.95  172.0     190.0   \n",
       "1         no   1.1  302.0     4.14    54.0    7394.8  113.52   88.0     221.0   \n",
       "2  untreated   1.4  176.0     3.48   210.0     516.0   96.10   55.0     151.0   \n",
       "3  untreated   1.8  244.0     2.54    64.0    6121.8   60.63   92.0     183.0   \n",
       "4         no   3.4  279.0     3.53   143.0     671.0  113.15   72.0     136.0   \n",
       "\n",
       "   protime stage  \n",
       "0     12.2    IV  \n",
       "1     10.6   III  \n",
       "2     12.0    IV  \n",
       "3     10.3    IV  \n",
       "4     10.9   III  "
      ]
     },
     "execution_count": 19,
     "metadata": {},
     "output_type": "execute_result"
    }
   ],
   "source": [
    "df.head()"
   ]
  },
  {
   "cell_type": "code",
   "execution_count": 30,
   "metadata": {
    "id": "03b57b4a"
   },
   "outputs": [],
   "source": [
    "# to label encoding categorical variables\n",
    "le = LabelEncoder() #label encoder\n",
    "cat_list = ['trt', 'age', 'sex', 'ascites', 'hepato', 'spiders', 'edema','stage'] #list of categorical variables\n",
    "for cat in cat_list:\n",
    "    df[cat] = le.fit_transform(df[cat])\n",
    "df['sex'] = le.fit_transform(df['sex'])"
   ]
  },
  {
   "cell_type": "code",
   "execution_count": 31,
   "metadata": {
    "colab": {
     "base_uri": "https://localhost:8080/",
     "height": 202
    },
    "id": "a5c626ec",
    "outputId": "49944029-2564-45ef-bb95-9ee8698e783a"
   },
   "outputs": [
    {
     "data": {
      "text/html": [
       "<div>\n",
       "<style scoped>\n",
       "    .dataframe tbody tr th:only-of-type {\n",
       "        vertical-align: middle;\n",
       "    }\n",
       "\n",
       "    .dataframe tbody tr th {\n",
       "        vertical-align: top;\n",
       "    }\n",
       "\n",
       "    .dataframe thead th {\n",
       "        text-align: right;\n",
       "    }\n",
       "</style>\n",
       "<table border=\"1\" class=\"dataframe\">\n",
       "  <thead>\n",
       "    <tr style=\"text-align: right;\">\n",
       "      <th></th>\n",
       "      <th>id</th>\n",
       "      <th>time</th>\n",
       "      <th>status</th>\n",
       "      <th>trt</th>\n",
       "      <th>age</th>\n",
       "      <th>sex</th>\n",
       "      <th>ascites</th>\n",
       "      <th>hepato</th>\n",
       "      <th>spiders</th>\n",
       "      <th>edema</th>\n",
       "      <th>bili</th>\n",
       "      <th>chol</th>\n",
       "      <th>albumin</th>\n",
       "      <th>copper</th>\n",
       "      <th>alk.phos</th>\n",
       "      <th>ast</th>\n",
       "      <th>trig</th>\n",
       "      <th>platelet</th>\n",
       "      <th>protime</th>\n",
       "      <th>stage</th>\n",
       "    </tr>\n",
       "  </thead>\n",
       "  <tbody>\n",
       "    <tr>\n",
       "      <th>0</th>\n",
       "      <td>1</td>\n",
       "      <td>400</td>\n",
       "      <td>2</td>\n",
       "      <td>0</td>\n",
       "      <td>219</td>\n",
       "      <td>0</td>\n",
       "      <td>1</td>\n",
       "      <td>1</td>\n",
       "      <td>1</td>\n",
       "      <td>0</td>\n",
       "      <td>14.5</td>\n",
       "      <td>261.0</td>\n",
       "      <td>2.60</td>\n",
       "      <td>156.0</td>\n",
       "      <td>1718.0</td>\n",
       "      <td>137.95</td>\n",
       "      <td>172.0</td>\n",
       "      <td>190.0</td>\n",
       "      <td>12.2</td>\n",
       "      <td>3</td>\n",
       "    </tr>\n",
       "    <tr>\n",
       "      <th>1</th>\n",
       "      <td>2</td>\n",
       "      <td>4500</td>\n",
       "      <td>0</td>\n",
       "      <td>0</td>\n",
       "      <td>205</td>\n",
       "      <td>0</td>\n",
       "      <td>0</td>\n",
       "      <td>1</td>\n",
       "      <td>1</td>\n",
       "      <td>1</td>\n",
       "      <td>1.1</td>\n",
       "      <td>302.0</td>\n",
       "      <td>4.14</td>\n",
       "      <td>54.0</td>\n",
       "      <td>7394.8</td>\n",
       "      <td>113.52</td>\n",
       "      <td>88.0</td>\n",
       "      <td>221.0</td>\n",
       "      <td>10.6</td>\n",
       "      <td>2</td>\n",
       "    </tr>\n",
       "    <tr>\n",
       "      <th>2</th>\n",
       "      <td>3</td>\n",
       "      <td>1012</td>\n",
       "      <td>2</td>\n",
       "      <td>0</td>\n",
       "      <td>266</td>\n",
       "      <td>1</td>\n",
       "      <td>0</td>\n",
       "      <td>0</td>\n",
       "      <td>0</td>\n",
       "      <td>2</td>\n",
       "      <td>1.4</td>\n",
       "      <td>176.0</td>\n",
       "      <td>3.48</td>\n",
       "      <td>210.0</td>\n",
       "      <td>516.0</td>\n",
       "      <td>96.10</td>\n",
       "      <td>55.0</td>\n",
       "      <td>151.0</td>\n",
       "      <td>12.0</td>\n",
       "      <td>3</td>\n",
       "    </tr>\n",
       "    <tr>\n",
       "      <th>3</th>\n",
       "      <td>4</td>\n",
       "      <td>1925</td>\n",
       "      <td>2</td>\n",
       "      <td>0</td>\n",
       "      <td>184</td>\n",
       "      <td>0</td>\n",
       "      <td>0</td>\n",
       "      <td>1</td>\n",
       "      <td>1</td>\n",
       "      <td>2</td>\n",
       "      <td>1.8</td>\n",
       "      <td>244.0</td>\n",
       "      <td>2.54</td>\n",
       "      <td>64.0</td>\n",
       "      <td>6121.8</td>\n",
       "      <td>60.63</td>\n",
       "      <td>92.0</td>\n",
       "      <td>183.0</td>\n",
       "      <td>10.3</td>\n",
       "      <td>3</td>\n",
       "    </tr>\n",
       "    <tr>\n",
       "      <th>4</th>\n",
       "      <td>5</td>\n",
       "      <td>1504</td>\n",
       "      <td>1</td>\n",
       "      <td>1</td>\n",
       "      <td>42</td>\n",
       "      <td>0</td>\n",
       "      <td>0</td>\n",
       "      <td>1</td>\n",
       "      <td>1</td>\n",
       "      <td>1</td>\n",
       "      <td>3.4</td>\n",
       "      <td>279.0</td>\n",
       "      <td>3.53</td>\n",
       "      <td>143.0</td>\n",
       "      <td>671.0</td>\n",
       "      <td>113.15</td>\n",
       "      <td>72.0</td>\n",
       "      <td>136.0</td>\n",
       "      <td>10.9</td>\n",
       "      <td>2</td>\n",
       "    </tr>\n",
       "  </tbody>\n",
       "</table>\n",
       "</div>"
      ],
      "text/plain": [
       "   id  time  status  trt  age  sex  ascites  hepato  spiders  edema  bili  \\\n",
       "0   1   400       2    0  219    0        1       1        1      0  14.5   \n",
       "1   2  4500       0    0  205    0        0       1        1      1   1.1   \n",
       "2   3  1012       2    0  266    1        0       0        0      2   1.4   \n",
       "3   4  1925       2    0  184    0        0       1        1      2   1.8   \n",
       "4   5  1504       1    1   42    0        0       1        1      1   3.4   \n",
       "\n",
       "    chol  albumin  copper  alk.phos     ast   trig  platelet  protime  stage  \n",
       "0  261.0     2.60   156.0    1718.0  137.95  172.0     190.0     12.2      3  \n",
       "1  302.0     4.14    54.0    7394.8  113.52   88.0     221.0     10.6      2  \n",
       "2  176.0     3.48   210.0     516.0   96.10   55.0     151.0     12.0      3  \n",
       "3  244.0     2.54    64.0    6121.8   60.63   92.0     183.0     10.3      3  \n",
       "4  279.0     3.53   143.0     671.0  113.15   72.0     136.0     10.9      2  "
      ]
     },
     "execution_count": 31,
     "metadata": {},
     "output_type": "execute_result"
    }
   ],
   "source": [
    "df.head()"
   ]
  },
  {
   "cell_type": "code",
   "execution_count": 32,
   "metadata": {
    "colab": {
     "base_uri": "https://localhost:8080/"
    },
    "id": "86e1252e",
    "outputId": "96483817-7ee7-400e-ffd6-2d09b7821f54"
   },
   "outputs": [
    {
     "data": {
      "text/plain": [
       "id          0\n",
       "time        0\n",
       "status      0\n",
       "trt         0\n",
       "age         0\n",
       "sex         0\n",
       "ascites     0\n",
       "hepato      0\n",
       "spiders     0\n",
       "edema       0\n",
       "bili        0\n",
       "chol        0\n",
       "albumin     0\n",
       "copper      0\n",
       "alk.phos    0\n",
       "ast         0\n",
       "trig        0\n",
       "platelet    0\n",
       "protime     0\n",
       "stage       0\n",
       "dtype: int64"
      ]
     },
     "execution_count": 32,
     "metadata": {},
     "output_type": "execute_result"
    }
   ],
   "source": [
    "# summary of the data set\n",
    "df.isnull().sum() # number of missing values"
   ]
  },
  {
   "cell_type": "code",
   "execution_count": 33,
   "metadata": {
    "colab": {
     "base_uri": "https://localhost:8080/"
    },
    "id": "42366676",
    "outputId": "54037606-d1ec-46d6-a444-2d870eb0b0e9"
   },
   "outputs": [
    {
     "name": "stdout",
     "output_type": "stream",
     "text": [
      "total numbers of missing values :0 and total rows in dataframe 276\n"
     ]
    }
   ],
   "source": [
    "# to check if there are missing values in the variables \n",
    "print(f'total numbers of missing values :{df.isnull().sum().max()} and total rows in dataframe {len(df)}')"
   ]
  },
  {
   "cell_type": "code",
   "execution_count": 69,
   "metadata": {
    "id": "a1b7ecd3"
   },
   "outputs": [],
   "source": [
    "# to drop missing value from the dataframe\n",
    "df_new = df\n",
    "df_new.dropna(how='any', inplace= True)"
   ]
  },
  {
   "cell_type": "code",
   "execution_count": 70,
   "metadata": {
    "colab": {
     "base_uri": "https://localhost:8080/"
    },
    "id": "55011a67",
    "outputId": "8cfbd94c-6277-42a1-9a15-f13b9c35cd76",
    "scrolled": true
   },
   "outputs": [
    {
     "data": {
      "text/plain": [
       "276"
      ]
     },
     "execution_count": 70,
     "metadata": {},
     "output_type": "execute_result"
    }
   ],
   "source": [
    "len(df_new)"
   ]
  },
  {
   "cell_type": "code",
   "execution_count": 71,
   "metadata": {
    "colab": {
     "base_uri": "https://localhost:8080/",
     "height": 314
    },
    "id": "6c82685c",
    "outputId": "19d41e2f-68be-4a64-d50f-5064970ffc6f"
   },
   "outputs": [
    {
     "data": {
      "text/html": [
       "<div>\n",
       "<style scoped>\n",
       "    .dataframe tbody tr th:only-of-type {\n",
       "        vertical-align: middle;\n",
       "    }\n",
       "\n",
       "    .dataframe tbody tr th {\n",
       "        vertical-align: top;\n",
       "    }\n",
       "\n",
       "    .dataframe thead th {\n",
       "        text-align: right;\n",
       "    }\n",
       "</style>\n",
       "<table border=\"1\" class=\"dataframe\">\n",
       "  <thead>\n",
       "    <tr style=\"text-align: right;\">\n",
       "      <th></th>\n",
       "      <th>id</th>\n",
       "      <th>time</th>\n",
       "      <th>status</th>\n",
       "      <th>trt</th>\n",
       "      <th>age</th>\n",
       "      <th>sex</th>\n",
       "      <th>ascites</th>\n",
       "      <th>hepato</th>\n",
       "      <th>spiders</th>\n",
       "      <th>edema</th>\n",
       "      <th>bili</th>\n",
       "      <th>chol</th>\n",
       "      <th>albumin</th>\n",
       "      <th>copper</th>\n",
       "      <th>alk.phos</th>\n",
       "      <th>ast</th>\n",
       "      <th>trig</th>\n",
       "      <th>platelet</th>\n",
       "      <th>protime</th>\n",
       "      <th>stage</th>\n",
       "    </tr>\n",
       "  </thead>\n",
       "  <tbody>\n",
       "    <tr>\n",
       "      <th>count</th>\n",
       "      <td>276.000000</td>\n",
       "      <td>276.000000</td>\n",
       "      <td>276.000000</td>\n",
       "      <td>276.000000</td>\n",
       "      <td>276.000000</td>\n",
       "      <td>276.000000</td>\n",
       "      <td>276.000000</td>\n",
       "      <td>276.000000</td>\n",
       "      <td>276.000000</td>\n",
       "      <td>276.000000</td>\n",
       "      <td>276.000000</td>\n",
       "      <td>276.000000</td>\n",
       "      <td>276.000000</td>\n",
       "      <td>276.000000</td>\n",
       "      <td>276.000000</td>\n",
       "      <td>276.000000</td>\n",
       "      <td>276.000000</td>\n",
       "      <td>276.000000</td>\n",
       "      <td>276.000000</td>\n",
       "      <td>276.000000</td>\n",
       "    </tr>\n",
       "    <tr>\n",
       "      <th>mean</th>\n",
       "      <td>158.615942</td>\n",
       "      <td>1979.166667</td>\n",
       "      <td>0.869565</td>\n",
       "      <td>0.507246</td>\n",
       "      <td>137.394928</td>\n",
       "      <td>0.123188</td>\n",
       "      <td>0.068841</td>\n",
       "      <td>0.514493</td>\n",
       "      <td>0.289855</td>\n",
       "      <td>1.028986</td>\n",
       "      <td>3.333696</td>\n",
       "      <td>371.260870</td>\n",
       "      <td>3.516812</td>\n",
       "      <td>100.768116</td>\n",
       "      <td>1996.611594</td>\n",
       "      <td>124.119239</td>\n",
       "      <td>124.978261</td>\n",
       "      <td>261.771739</td>\n",
       "      <td>10.735507</td>\n",
       "      <td>2.039855</td>\n",
       "    </tr>\n",
       "    <tr>\n",
       "      <th>std</th>\n",
       "      <td>91.662926</td>\n",
       "      <td>1112.380295</td>\n",
       "      <td>0.959743</td>\n",
       "      <td>0.500856</td>\n",
       "      <td>79.655804</td>\n",
       "      <td>0.329250</td>\n",
       "      <td>0.253643</td>\n",
       "      <td>0.500698</td>\n",
       "      <td>0.454519</td>\n",
       "      <td>0.389723</td>\n",
       "      <td>4.601074</td>\n",
       "      <td>234.788363</td>\n",
       "      <td>0.404789</td>\n",
       "      <td>88.268746</td>\n",
       "      <td>2115.477894</td>\n",
       "      <td>56.719952</td>\n",
       "      <td>65.280761</td>\n",
       "      <td>93.128857</td>\n",
       "      <td>1.008315</td>\n",
       "      <td>0.853999</td>\n",
       "    </tr>\n",
       "    <tr>\n",
       "      <th>min</th>\n",
       "      <td>1.000000</td>\n",
       "      <td>41.000000</td>\n",
       "      <td>0.000000</td>\n",
       "      <td>0.000000</td>\n",
       "      <td>0.000000</td>\n",
       "      <td>0.000000</td>\n",
       "      <td>0.000000</td>\n",
       "      <td>0.000000</td>\n",
       "      <td>0.000000</td>\n",
       "      <td>0.000000</td>\n",
       "      <td>0.300000</td>\n",
       "      <td>120.000000</td>\n",
       "      <td>1.960000</td>\n",
       "      <td>4.000000</td>\n",
       "      <td>289.000000</td>\n",
       "      <td>28.380000</td>\n",
       "      <td>33.000000</td>\n",
       "      <td>62.000000</td>\n",
       "      <td>9.000000</td>\n",
       "      <td>0.000000</td>\n",
       "    </tr>\n",
       "    <tr>\n",
       "      <th>25%</th>\n",
       "      <td>79.750000</td>\n",
       "      <td>1185.750000</td>\n",
       "      <td>0.000000</td>\n",
       "      <td>0.000000</td>\n",
       "      <td>68.750000</td>\n",
       "      <td>0.000000</td>\n",
       "      <td>0.000000</td>\n",
       "      <td>0.000000</td>\n",
       "      <td>0.000000</td>\n",
       "      <td>1.000000</td>\n",
       "      <td>0.800000</td>\n",
       "      <td>249.500000</td>\n",
       "      <td>3.310000</td>\n",
       "      <td>42.750000</td>\n",
       "      <td>922.500000</td>\n",
       "      <td>82.457500</td>\n",
       "      <td>85.000000</td>\n",
       "      <td>200.000000</td>\n",
       "      <td>10.000000</td>\n",
       "      <td>1.000000</td>\n",
       "    </tr>\n",
       "    <tr>\n",
       "      <th>50%</th>\n",
       "      <td>157.500000</td>\n",
       "      <td>1788.000000</td>\n",
       "      <td>0.000000</td>\n",
       "      <td>1.000000</td>\n",
       "      <td>137.500000</td>\n",
       "      <td>0.000000</td>\n",
       "      <td>0.000000</td>\n",
       "      <td>1.000000</td>\n",
       "      <td>0.000000</td>\n",
       "      <td>1.000000</td>\n",
       "      <td>1.400000</td>\n",
       "      <td>310.000000</td>\n",
       "      <td>3.545000</td>\n",
       "      <td>74.000000</td>\n",
       "      <td>1277.500000</td>\n",
       "      <td>116.625000</td>\n",
       "      <td>108.000000</td>\n",
       "      <td>257.000000</td>\n",
       "      <td>10.600000</td>\n",
       "      <td>2.000000</td>\n",
       "    </tr>\n",
       "    <tr>\n",
       "      <th>75%</th>\n",
       "      <td>240.250000</td>\n",
       "      <td>2689.750000</td>\n",
       "      <td>2.000000</td>\n",
       "      <td>1.000000</td>\n",
       "      <td>206.250000</td>\n",
       "      <td>0.000000</td>\n",
       "      <td>0.000000</td>\n",
       "      <td>1.000000</td>\n",
       "      <td>1.000000</td>\n",
       "      <td>1.000000</td>\n",
       "      <td>3.525000</td>\n",
       "      <td>401.000000</td>\n",
       "      <td>3.772500</td>\n",
       "      <td>129.250000</td>\n",
       "      <td>2068.250000</td>\n",
       "      <td>153.450000</td>\n",
       "      <td>151.250000</td>\n",
       "      <td>318.250000</td>\n",
       "      <td>11.200000</td>\n",
       "      <td>3.000000</td>\n",
       "    </tr>\n",
       "    <tr>\n",
       "      <th>max</th>\n",
       "      <td>312.000000</td>\n",
       "      <td>4556.000000</td>\n",
       "      <td>2.000000</td>\n",
       "      <td>1.000000</td>\n",
       "      <td>274.000000</td>\n",
       "      <td>1.000000</td>\n",
       "      <td>1.000000</td>\n",
       "      <td>1.000000</td>\n",
       "      <td>1.000000</td>\n",
       "      <td>2.000000</td>\n",
       "      <td>28.000000</td>\n",
       "      <td>1775.000000</td>\n",
       "      <td>4.400000</td>\n",
       "      <td>588.000000</td>\n",
       "      <td>13862.400000</td>\n",
       "      <td>457.250000</td>\n",
       "      <td>598.000000</td>\n",
       "      <td>563.000000</td>\n",
       "      <td>17.100000</td>\n",
       "      <td>3.000000</td>\n",
       "    </tr>\n",
       "  </tbody>\n",
       "</table>\n",
       "</div>"
      ],
      "text/plain": [
       "               id         time      status         trt         age  \\\n",
       "count  276.000000   276.000000  276.000000  276.000000  276.000000   \n",
       "mean   158.615942  1979.166667    0.869565    0.507246  137.394928   \n",
       "std     91.662926  1112.380295    0.959743    0.500856   79.655804   \n",
       "min      1.000000    41.000000    0.000000    0.000000    0.000000   \n",
       "25%     79.750000  1185.750000    0.000000    0.000000   68.750000   \n",
       "50%    157.500000  1788.000000    0.000000    1.000000  137.500000   \n",
       "75%    240.250000  2689.750000    2.000000    1.000000  206.250000   \n",
       "max    312.000000  4556.000000    2.000000    1.000000  274.000000   \n",
       "\n",
       "              sex     ascites      hepato     spiders       edema        bili  \\\n",
       "count  276.000000  276.000000  276.000000  276.000000  276.000000  276.000000   \n",
       "mean     0.123188    0.068841    0.514493    0.289855    1.028986    3.333696   \n",
       "std      0.329250    0.253643    0.500698    0.454519    0.389723    4.601074   \n",
       "min      0.000000    0.000000    0.000000    0.000000    0.000000    0.300000   \n",
       "25%      0.000000    0.000000    0.000000    0.000000    1.000000    0.800000   \n",
       "50%      0.000000    0.000000    1.000000    0.000000    1.000000    1.400000   \n",
       "75%      0.000000    0.000000    1.000000    1.000000    1.000000    3.525000   \n",
       "max      1.000000    1.000000    1.000000    1.000000    2.000000   28.000000   \n",
       "\n",
       "              chol     albumin      copper      alk.phos         ast  \\\n",
       "count   276.000000  276.000000  276.000000    276.000000  276.000000   \n",
       "mean    371.260870    3.516812  100.768116   1996.611594  124.119239   \n",
       "std     234.788363    0.404789   88.268746   2115.477894   56.719952   \n",
       "min     120.000000    1.960000    4.000000    289.000000   28.380000   \n",
       "25%     249.500000    3.310000   42.750000    922.500000   82.457500   \n",
       "50%     310.000000    3.545000   74.000000   1277.500000  116.625000   \n",
       "75%     401.000000    3.772500  129.250000   2068.250000  153.450000   \n",
       "max    1775.000000    4.400000  588.000000  13862.400000  457.250000   \n",
       "\n",
       "             trig    platelet     protime       stage  \n",
       "count  276.000000  276.000000  276.000000  276.000000  \n",
       "mean   124.978261  261.771739   10.735507    2.039855  \n",
       "std     65.280761   93.128857    1.008315    0.853999  \n",
       "min     33.000000   62.000000    9.000000    0.000000  \n",
       "25%     85.000000  200.000000   10.000000    1.000000  \n",
       "50%    108.000000  257.000000   10.600000    2.000000  \n",
       "75%    151.250000  318.250000   11.200000    3.000000  \n",
       "max    598.000000  563.000000   17.100000    3.000000  "
      ]
     },
     "execution_count": 71,
     "metadata": {},
     "output_type": "execute_result"
    }
   ],
   "source": [
    "# descriptive of the data i\n",
    "df_new.describe()"
   ]
  },
  {
   "cell_type": "code",
   "execution_count": 72,
   "metadata": {
    "id": "e3860881"
   },
   "outputs": [],
   "source": [
    "data_train = df_new #train data \n",
    "data_test = df_new.sample(frac= 0.2) #test data\n",
    "data_val = df_new.sample (frac= 0.2) #val data"
   ]
  },
  {
   "cell_type": "code",
   "execution_count": 73,
   "metadata": {
    "id": "b944cfdd"
   },
   "outputs": [],
   "source": [
    "# function to get targets variable\n",
    "Y = lambda df_new: (df_new['time'].values, df_new['status'].values)\n",
    "\n",
    "# to standardize and get dependent variables \n",
    "x_num = ['age','bili', 'chol', 'albumin', 'copper', 'alk.phos',\n",
    "       'ast', 'trig', 'platelet', 'protime'] # list of variables for standardization\n",
    "x_cat = ['trt','sex', 'ascites', 'hepato',\n",
    "       'spiders', 'edema', 'stage'] #categorical variables \n",
    "standardize = [([num], StandardScaler()) for num in x_num]\n",
    "label = [([cat], None) for cat in x_cat]\n",
    "\n",
    "X_map = DataFrameMapper(standardize + label)"
   ]
  },
  {
   "cell_type": "code",
   "execution_count": 74,
   "metadata": {
    "id": "33953f3b"
   },
   "outputs": [],
   "source": [
    "x_train = X_map.fit_transform(data_train).astype('float32') # x train\n",
    "x_test= X_map.fit_transform(data_test).astype('float32') # x test\n",
    "x_val = X_map.fit_transform(data_val).astype('float32') # x va\n"
   ]
  },
  {
   "cell_type": "code",
   "execution_count": 75,
   "metadata": {
    "id": "02b0b8e7"
   },
   "outputs": [],
   "source": [
    "y_train = Y(data_train) # y train\n",
    "time_test , status_test = Y(data_test) # test dependent variables Time & Status\n",
    "y_val = Y(data_val) # y val\n",
    "val = x_val, y_val # validation data for x and y "
   ]
  },
  {
   "cell_type": "code",
   "execution_count": 80,
   "metadata": {
    "colab": {
     "base_uri": "https://localhost:8080/"
    },
    "id": "c6fe228d",
    "outputId": "81a8789a-6c2c-4fee-d774-419f50594fc5"
   },
   "outputs": [
    {
     "data": {
      "text/plain": [
       "(array([ 400, 4500, 1012, 1925, 1504, 1832, 2466, 2400,   51, 3762,  304,\n",
       "        3577, 3584, 3672,  769,  131, 4232, 1356, 3445,  673,  264, 4079,\n",
       "        4127, 1444,   77,  549, 4509,  321, 3839, 4523, 3170, 3933, 2847,\n",
       "        3611,  223, 3244, 2297, 4556, 3428, 2256, 2576, 4427, 2598, 3853,\n",
       "        2386, 1434, 1360, 1847, 3282, 2224, 4365, 4256, 3090,  859, 1487,\n",
       "        3992, 4191, 2769, 4039, 1170, 4196, 4184, 4190, 1827, 1191,   71,\n",
       "         326, 1690, 3707,  890, 2540, 3574, 4050, 4032, 3358, 1657,  198,\n",
       "        2452, 1741, 2689,  460,  388, 3913,  750,  611, 3823, 3820,  552,\n",
       "        3581, 3099,  110, 3086, 3092, 3388, 2583, 2504, 2105, 2350, 3445,\n",
       "         980, 3395, 3422, 3336, 1083, 2288,  515, 2033,  191, 3297, 3069,\n",
       "        2468, 3255, 1413,  850, 2944, 2796, 3149, 3150, 3098, 2990, 1297,\n",
       "        2106, 3059, 3050, 2419,  786,  943, 2976, 2995, 1427,  762, 2870,\n",
       "        1152, 2863,  140, 2666,  853, 2835, 2475, 1536, 2772, 2797,  186,\n",
       "        2055, 1077, 2721, 1682, 1212, 2692, 2301, 2657, 2624, 2609, 2573,\n",
       "        2563, 2556, 2241,  974, 2527, 1576,  733, 2332, 2456,  216, 2443,\n",
       "         797, 2449, 2330, 2363, 2365, 2357, 1592, 2318, 2294, 2272, 2221,\n",
       "        2090, 2255,  904, 2216, 2224, 2176, 2178, 1786, 1080,  790, 2157,\n",
       "        1235, 2050,  597,  334, 1945, 2022, 1978,  999, 1967,  348, 1979,\n",
       "        1165, 1951, 1932, 1776, 1882, 1908, 1882,  694, 1831,  837, 1810,\n",
       "         930, 1690, 1790, 1435,  732, 1785, 1783, 1769, 1457, 1770, 1765,\n",
       "         737, 1735, 1701, 1614, 1702, 1615, 1656, 1666, 1301, 1542, 1084,\n",
       "        1614,  179, 1191, 1363, 1568, 1569, 1525, 1558, 1349, 1481, 1434,\n",
       "        1420, 1433, 1412,   41, 1455, 1030, 1418, 1401, 1408, 1234, 1067,\n",
       "         799, 1363,  901, 1329, 1320, 1302,  877, 1321,  533, 1300, 1293,\n",
       "        1295, 1271, 1250, 1230, 1216, 1216, 1149, 1153,  994,  939,  839,\n",
       "         788]),\n",
       " array([2, 0, 2, 2, 1, 0, 2, 2, 2, 2, 2, 0, 2, 0, 2, 2, 0, 2, 0, 2, 2, 2,\n",
       "        0, 2, 2, 2, 0, 2, 2, 0, 2, 0, 2, 0, 2, 2, 2, 0, 2, 2, 0, 0, 2, 2,\n",
       "        2, 2, 2, 2, 2, 2, 0, 0, 2, 2, 2, 0, 2, 2, 0, 2, 0, 0, 0, 2, 2, 2,\n",
       "        2, 2, 0, 2, 2, 2, 0, 0, 2, 2, 2, 0, 2, 2, 2, 2, 0, 2, 2, 0, 0, 2,\n",
       "        0, 0, 2, 2, 1, 0, 2, 0, 2, 1, 2, 2, 2, 0, 0, 2, 2, 2, 1, 2, 0, 0,\n",
       "        1, 0, 2, 2, 0, 2, 0, 0, 0, 0, 2, 0, 0, 0, 2, 2, 2, 0, 0, 2, 2, 0,\n",
       "        2, 0, 2, 0, 2, 0, 1, 2, 0, 0, 2, 2, 2, 0, 2, 2, 0, 0, 0, 0, 0, 0,\n",
       "        0, 0, 1, 2, 0, 2, 2, 0, 0, 2, 0, 2, 0, 0, 0, 0, 0, 0, 0, 0, 0, 0,\n",
       "        2, 0, 2, 0, 0, 0, 0, 2, 2, 2, 0, 2, 0, 2, 2, 0, 0, 0, 2, 0, 2, 0,\n",
       "        2, 0, 0, 0, 0, 0, 0, 2, 0, 1, 0, 2, 2, 0, 1, 1, 0, 0, 0, 0, 0, 0,\n",
       "        1, 0, 0, 0, 0, 0, 0, 0, 1, 1, 1, 0, 2, 2, 0, 0, 0, 0, 0, 0, 0, 0,\n",
       "        0, 0, 0, 2, 0, 0, 0, 0, 0, 0, 1, 2, 0, 1, 0, 0, 0, 1, 0, 1, 0, 0,\n",
       "        0, 0, 0, 0, 0, 0, 0, 0, 0, 0, 0, 0]))"
      ]
     },
     "execution_count": 80,
     "metadata": {},
     "output_type": "execute_result"
    }
   ],
   "source": [
    "y_train"
   ]
  },
  {
   "cell_type": "code",
   "execution_count": 81,
   "metadata": {},
   "outputs": [
    {
     "ename": "AttributeError",
     "evalue": "'tuple' object has no attribute 'to_records'",
     "output_type": "error",
     "traceback": [
      "\u001b[0;31m---------------------------------------------------------------------------\u001b[0m",
      "\u001b[0;31mAttributeError\u001b[0m                            Traceback (most recent call last)",
      "\u001b[0;32m<ipython-input-81-20e9a25537d5>\u001b[0m in \u001b[0;36m<module>\u001b[0;34m\u001b[0m\n\u001b[0;32m----> 1\u001b[0;31m \u001b[0my_train_structured\u001b[0m \u001b[0;34m=\u001b[0m \u001b[0my_train\u001b[0m\u001b[0;34m.\u001b[0m\u001b[0mto_records\u001b[0m\u001b[0;34m(\u001b[0m\u001b[0mindex\u001b[0m\u001b[0;34m=\u001b[0m\u001b[0;32mFalse\u001b[0m\u001b[0;34m)\u001b[0m\u001b[0;34m\u001b[0m\u001b[0;34m\u001b[0m\u001b[0m\n\u001b[0m",
      "\u001b[0;31mAttributeError\u001b[0m: 'tuple' object has no attribute 'to_records'"
     ]
    }
   ],
   "source": [
    "y_train_structured = y_train.to_records(index=False)"
   ]
  },
  {
   "cell_type": "markdown",
   "metadata": {},
   "source": [
    "## xgboost"
   ]
  },
  {
   "cell_type": "code",
   "execution_count": 76,
   "metadata": {},
   "outputs": [],
   "source": [
    "# create xgboost dmatrix\n",
    "xgb_train = xgb.DMatrix(x_train, label=y_train)\n",
    "xgb_test = xgb.DMatrix(x_test, label=y_test)"
   ]
  },
  {
   "cell_type": "code",
   "execution_count": 77,
   "metadata": {},
   "outputs": [
    {
     "data": {
      "text/plain": [
       "<xgboost.core.DMatrix at 0x7fa21adc77c0>"
      ]
     },
     "execution_count": 77,
     "metadata": {},
     "output_type": "execute_result"
    }
   ],
   "source": [
    "xgb_train"
   ]
  },
  {
   "cell_type": "code",
   "execution_count": 78,
   "metadata": {},
   "outputs": [
    {
     "data": {
      "text/plain": [
       "<xgboost.core.DMatrix at 0x7fa21a823b50>"
      ]
     },
     "execution_count": 78,
     "metadata": {},
     "output_type": "execute_result"
    }
   ],
   "source": [
    "xgb_test"
   ]
  },
  {
   "cell_type": "code",
   "execution_count": 79,
   "metadata": {},
   "outputs": [
    {
     "ename": "XGBoostError",
     "evalue": "[12:43:29] /opt/concourse/worker/volumes/live/7a2b9f41-3287-451b-6691-43e9a6c0910f/volume/xgboost-split_1619728204606/work/src/data/data.cc:556: Check failed: labels_.Size() == num_row_ (2 vs. 276) : Size of labels must equal to number of rows.\nStack trace:\n  [bt] (0) 1   libxgboost.dylib                    0x000000015af5a0fe dmlc::LogMessageFatal::~LogMessageFatal() + 110\n  [bt] (1) 2   libxgboost.dylib                    0x000000015afad55c xgboost::MetaInfo::Validate(int) const + 1164\n  [bt] (2) 3   libxgboost.dylib                    0x000000015b0140ca xgboost::LearnerImpl::ValidateDMatrix(xgboost::DMatrix*, bool) const + 58\n  [bt] (3) 4   libxgboost.dylib                    0x000000015b003c01 xgboost::LearnerImpl::UpdateOneIter(int, std::__1::shared_ptr<xgboost::DMatrix>) + 273\n  [bt] (4) 5   libxgboost.dylib                    0x000000015af5009c XGBoosterUpdateOneIter + 156\n  [bt] (5) 6   libffi.7.dylib                      0x00000001101f8ead ffi_call_unix64 + 85\n  [bt] (6) 7   ???                                 0x00007ffee05e69f0 0x0 + 140732662704624\n\n",
     "output_type": "error",
     "traceback": [
      "\u001b[0;31m---------------------------------------------------------------------------\u001b[0m",
      "\u001b[0;31mXGBoostError\u001b[0m                              Traceback (most recent call last)",
      "\u001b[0;32m<ipython-input-79-571d3132aaf8>\u001b[0m in \u001b[0;36m<module>\u001b[0;34m\u001b[0m\n\u001b[1;32m      6\u001b[0m     \u001b[0;34m\"subsample\"\u001b[0m\u001b[0;34m:\u001b[0m \u001b[0;36m0.5\u001b[0m\u001b[0;34m\u001b[0m\u001b[0;34m\u001b[0m\u001b[0m\n\u001b[1;32m      7\u001b[0m }\n\u001b[0;32m----> 8\u001b[0;31m \u001b[0mmodel_train\u001b[0m \u001b[0;34m=\u001b[0m \u001b[0mxgb\u001b[0m\u001b[0;34m.\u001b[0m\u001b[0mtrain\u001b[0m\u001b[0;34m(\u001b[0m\u001b[0mparams\u001b[0m\u001b[0;34m,\u001b[0m \u001b[0mxgb_train\u001b[0m\u001b[0;34m,\u001b[0m \u001b[0;36m10000\u001b[0m\u001b[0;34m,\u001b[0m \u001b[0mevals\u001b[0m \u001b[0;34m=\u001b[0m \u001b[0;34m[\u001b[0m\u001b[0;34m(\u001b[0m\u001b[0mxgb_test\u001b[0m\u001b[0;34m,\u001b[0m \u001b[0;34m\"test\"\u001b[0m\u001b[0;34m)\u001b[0m\u001b[0;34m]\u001b[0m\u001b[0;34m,\u001b[0m \u001b[0mverbose_eval\u001b[0m\u001b[0;34m=\u001b[0m\u001b[0;36m1000\u001b[0m\u001b[0;34m)\u001b[0m\u001b[0;34m\u001b[0m\u001b[0;34m\u001b[0m\u001b[0m\n\u001b[0m",
      "\u001b[0;32m/opt/anaconda3/lib/python3.8/site-packages/xgboost/training.py\u001b[0m in \u001b[0;36mtrain\u001b[0;34m(params, dtrain, num_boost_round, evals, obj, feval, maximize, early_stopping_rounds, evals_result, verbose_eval, xgb_model, callbacks)\u001b[0m\n\u001b[1;32m    225\u001b[0m     \u001b[0mBooster\u001b[0m \u001b[0;34m:\u001b[0m \u001b[0ma\u001b[0m \u001b[0mtrained\u001b[0m \u001b[0mbooster\u001b[0m \u001b[0mmodel\u001b[0m\u001b[0;34m\u001b[0m\u001b[0;34m\u001b[0m\u001b[0m\n\u001b[1;32m    226\u001b[0m     \"\"\"\n\u001b[0;32m--> 227\u001b[0;31m     bst = _train_internal(params, dtrain,\n\u001b[0m\u001b[1;32m    228\u001b[0m                           \u001b[0mnum_boost_round\u001b[0m\u001b[0;34m=\u001b[0m\u001b[0mnum_boost_round\u001b[0m\u001b[0;34m,\u001b[0m\u001b[0;34m\u001b[0m\u001b[0;34m\u001b[0m\u001b[0m\n\u001b[1;32m    229\u001b[0m                           \u001b[0mevals\u001b[0m\u001b[0;34m=\u001b[0m\u001b[0mevals\u001b[0m\u001b[0;34m,\u001b[0m\u001b[0;34m\u001b[0m\u001b[0;34m\u001b[0m\u001b[0m\n",
      "\u001b[0;32m/opt/anaconda3/lib/python3.8/site-packages/xgboost/training.py\u001b[0m in \u001b[0;36m_train_internal\u001b[0;34m(params, dtrain, num_boost_round, evals, obj, feval, xgb_model, callbacks, evals_result, maximize, verbose_eval, early_stopping_rounds)\u001b[0m\n\u001b[1;32m    100\u001b[0m         \u001b[0;31m# Skip the first update if it is a recovery step.\u001b[0m\u001b[0;34m\u001b[0m\u001b[0;34m\u001b[0m\u001b[0;34m\u001b[0m\u001b[0m\n\u001b[1;32m    101\u001b[0m         \u001b[0;32mif\u001b[0m \u001b[0mversion\u001b[0m \u001b[0;34m%\u001b[0m \u001b[0;36m2\u001b[0m \u001b[0;34m==\u001b[0m \u001b[0;36m0\u001b[0m\u001b[0;34m:\u001b[0m\u001b[0;34m\u001b[0m\u001b[0;34m\u001b[0m\u001b[0m\n\u001b[0;32m--> 102\u001b[0;31m             \u001b[0mbst\u001b[0m\u001b[0;34m.\u001b[0m\u001b[0mupdate\u001b[0m\u001b[0;34m(\u001b[0m\u001b[0mdtrain\u001b[0m\u001b[0;34m,\u001b[0m \u001b[0mi\u001b[0m\u001b[0;34m,\u001b[0m \u001b[0mobj\u001b[0m\u001b[0;34m)\u001b[0m\u001b[0;34m\u001b[0m\u001b[0;34m\u001b[0m\u001b[0m\n\u001b[0m\u001b[1;32m    103\u001b[0m             \u001b[0mbst\u001b[0m\u001b[0;34m.\u001b[0m\u001b[0msave_rabit_checkpoint\u001b[0m\u001b[0;34m(\u001b[0m\u001b[0;34m)\u001b[0m\u001b[0;34m\u001b[0m\u001b[0;34m\u001b[0m\u001b[0m\n\u001b[1;32m    104\u001b[0m             \u001b[0mversion\u001b[0m \u001b[0;34m+=\u001b[0m \u001b[0;36m1\u001b[0m\u001b[0;34m\u001b[0m\u001b[0;34m\u001b[0m\u001b[0m\n",
      "\u001b[0;32m/opt/anaconda3/lib/python3.8/site-packages/xgboost/core.py\u001b[0m in \u001b[0;36mupdate\u001b[0;34m(self, dtrain, iteration, fobj)\u001b[0m\n\u001b[1;32m   1278\u001b[0m \u001b[0;34m\u001b[0m\u001b[0m\n\u001b[1;32m   1279\u001b[0m         \u001b[0;32mif\u001b[0m \u001b[0mfobj\u001b[0m \u001b[0;32mis\u001b[0m \u001b[0;32mNone\u001b[0m\u001b[0;34m:\u001b[0m\u001b[0;34m\u001b[0m\u001b[0;34m\u001b[0m\u001b[0m\n\u001b[0;32m-> 1280\u001b[0;31m             _check_call(_LIB.XGBoosterUpdateOneIter(self.handle,\n\u001b[0m\u001b[1;32m   1281\u001b[0m                                                     \u001b[0mctypes\u001b[0m\u001b[0;34m.\u001b[0m\u001b[0mc_int\u001b[0m\u001b[0;34m(\u001b[0m\u001b[0miteration\u001b[0m\u001b[0;34m)\u001b[0m\u001b[0;34m,\u001b[0m\u001b[0;34m\u001b[0m\u001b[0;34m\u001b[0m\u001b[0m\n\u001b[1;32m   1282\u001b[0m                                                     dtrain.handle))\n",
      "\u001b[0;32m/opt/anaconda3/lib/python3.8/site-packages/xgboost/core.py\u001b[0m in \u001b[0;36m_check_call\u001b[0;34m(ret)\u001b[0m\n\u001b[1;32m    187\u001b[0m     \"\"\"\n\u001b[1;32m    188\u001b[0m     \u001b[0;32mif\u001b[0m \u001b[0mret\u001b[0m \u001b[0;34m!=\u001b[0m \u001b[0;36m0\u001b[0m\u001b[0;34m:\u001b[0m\u001b[0;34m\u001b[0m\u001b[0;34m\u001b[0m\u001b[0m\n\u001b[0;32m--> 189\u001b[0;31m         \u001b[0;32mraise\u001b[0m \u001b[0mXGBoostError\u001b[0m\u001b[0;34m(\u001b[0m\u001b[0mpy_str\u001b[0m\u001b[0;34m(\u001b[0m\u001b[0m_LIB\u001b[0m\u001b[0;34m.\u001b[0m\u001b[0mXGBGetLastError\u001b[0m\u001b[0;34m(\u001b[0m\u001b[0;34m)\u001b[0m\u001b[0;34m)\u001b[0m\u001b[0;34m)\u001b[0m\u001b[0;34m\u001b[0m\u001b[0;34m\u001b[0m\u001b[0m\n\u001b[0m\u001b[1;32m    190\u001b[0m \u001b[0;34m\u001b[0m\u001b[0m\n\u001b[1;32m    191\u001b[0m \u001b[0;34m\u001b[0m\u001b[0m\n",
      "\u001b[0;31mXGBoostError\u001b[0m: [12:43:29] /opt/concourse/worker/volumes/live/7a2b9f41-3287-451b-6691-43e9a6c0910f/volume/xgboost-split_1619728204606/work/src/data/data.cc:556: Check failed: labels_.Size() == num_row_ (2 vs. 276) : Size of labels must equal to number of rows.\nStack trace:\n  [bt] (0) 1   libxgboost.dylib                    0x000000015af5a0fe dmlc::LogMessageFatal::~LogMessageFatal() + 110\n  [bt] (1) 2   libxgboost.dylib                    0x000000015afad55c xgboost::MetaInfo::Validate(int) const + 1164\n  [bt] (2) 3   libxgboost.dylib                    0x000000015b0140ca xgboost::LearnerImpl::ValidateDMatrix(xgboost::DMatrix*, bool) const + 58\n  [bt] (3) 4   libxgboost.dylib                    0x000000015b003c01 xgboost::LearnerImpl::UpdateOneIter(int, std::__1::shared_ptr<xgboost::DMatrix>) + 273\n  [bt] (4) 5   libxgboost.dylib                    0x000000015af5009c XGBoosterUpdateOneIter + 156\n  [bt] (5) 6   libffi.7.dylib                      0x00000001101f8ead ffi_call_unix64 + 85\n  [bt] (6) 7   ???                                 0x00007ffee05e69f0 0x0 + 140732662704624\n\n"
     ]
    }
   ],
   "source": [
    "# use validation set to choose # of trees\n",
    "params = {\n",
    "    \"eta\": 0.002,\n",
    "    \"max_depth\": 3,\n",
    "    \"objective\": \"survival:cox\",\n",
    "    \"subsample\": 0.5\n",
    "}\n",
    "model_train = xgb.train(params, xgb_train, 10000, evals = [(xgb_test, \"test\")], verbose_eval=1000)"
   ]
  },
  {
   "cell_type": "code",
   "execution_count": null,
   "metadata": {},
   "outputs": [],
   "source": [
    "def c_statistic_harrell(pred, labels):\n",
    "    total = 0\n",
    "    matches = 0\n",
    "    for i in range(len(labels)):\n",
    "        for j in range(len(labels)):\n",
    "            if labels[j] > 0 and abs(labels[i]) > labels[j]:\n",
    "                total += 1\n",
    "                if pred[j] > pred[i]:\n",
    "                    matches += 1\n",
    "    return matches/total\n",
    "\n",
    "# see how well we can order people by survival\n",
    "c_statistic_harrell(model_train.predict(xgb_test, ntree_limit=5000), y_test)"
   ]
  },
  {
   "cell_type": "code",
   "execution_count": null,
   "metadata": {},
   "outputs": [],
   "source": []
  }
 ],
 "metadata": {
  "kernelspec": {
   "display_name": "Python 3",
   "language": "python",
   "name": "python3"
  },
  "language_info": {
   "codemirror_mode": {
    "name": "ipython",
    "version": 3
   },
   "file_extension": ".py",
   "mimetype": "text/x-python",
   "name": "python",
   "nbconvert_exporter": "python",
   "pygments_lexer": "ipython3",
   "version": "3.8.5"
  }
 },
 "nbformat": 4,
 "nbformat_minor": 4
}
